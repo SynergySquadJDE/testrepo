{
 "cells": [
  {
   "cell_type": "code",
   "execution_count": 1,
   "id": "84d9bdf4",
   "metadata": {},
   "outputs": [
    {
     "name": "stdout",
     "output_type": "stream",
     "text": [
      "hello,\n"
     ]
    }
   ],
   "source": [
    "print(\"hello,\")\n",
    "new code"
   ]
  },
  {
   "cell_type": "code",
   "execution_count": 6,
   "id": "5fe83d76",
   "metadata": {
    "scrolled": true
   },
   "outputs": [
    {
     "name": "stdout",
     "output_type": "stream",
     "text": [
      "world\n"
     ]
    }
   ],
   "source": [
    "print(\"world\")"
   ]
  },
  {
   "cell_type": "code",
   "execution_count": 7,
   "id": "d4acfe0f",
   "metadata": {
    "scrolled": true
   },
   "outputs": [
    {
     "name": "stdout",
     "output_type": "stream",
     "text": [
      "magic\n"
     ]
    }
   ],
   "source": [
    "if 2 + 5 - 7 == 0: \n",
    "    print(\"magic\")\n",
    "else: \n",
    "    print(\"extra magic\")"
   ]
  },
  {
   "cell_type": "code",
   "execution_count": null,
   "id": "756f30ca",
   "metadata": {},
   "outputs": [],
   "source": [
    "print(\"hello world\")"
   ]
  },
  {
   "cell_type": "code",
   "execution_count": null,
   "id": "077fdf8c",
   "metadata": {},
   "outputs": [],
   "source": []
  }
 ],
 "metadata": {
  "kernelspec": {
   "display_name": "Python 3 (ipykernel)",
   "language": "python",
   "name": "python3"
  },
  "language_info": {
   "codemirror_mode": {
    "name": "ipython",
    "version": 3
   },
   "file_extension": ".py",
   "mimetype": "text/x-python",
   "name": "python",
   "nbconvert_exporter": "python",
   "pygments_lexer": "ipython3",
   "version": "3.11.5"
  }
 },
 "nbformat": 4,
 "nbformat_minor": 5
}
